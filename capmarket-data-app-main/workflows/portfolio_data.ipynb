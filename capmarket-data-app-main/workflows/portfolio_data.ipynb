{
 "cells": [
  {
   "cell_type": "markdown",
   "metadata": {
    "application/vnd.databricks.v1+cell": {
     "cellMetadata": {},
     "inputWidgets": {},
     "nuid": "888cf63c-fb9b-453c-8c58-f9ca139b3818",
     "showTitle": false,
     "tableResultSettingsMap": {},
     "title": ""
    }
   },
   "source": [
    "## Reading 1st party Data\n",
    "For the purpose of this demo, we created a synthetic portfolio we know match with subset records we have from Factset and information we get from Bloomberg. This resulted in a portolio of 31 US base equities across multiple sectors. No efforts were done optimizing this portfolio for market performance."
   ]
  },
  {
   "cell_type": "code",
   "execution_count": 0,
   "metadata": {
    "application/vnd.databricks.v1+cell": {
     "cellMetadata": {
      "byteLimit": 2048000,
      "rowLimit": 10000
     },
     "inputWidgets": {},
     "nuid": "47af7b67-f357-48f2-9063-15f0f601b694",
     "showTitle": false,
     "tableResultSettingsMap": {},
     "title": ""
    }
   },
   "outputs": [],
   "source": [
    "lakehouse_catalog = 'financial_services'\n",
    "lakehouse_database = 'investment_analytics'\n",
    "bloomberg_entity_table = 'bloomberg_entity'\n",
    "lakehouse_table = 'equity_portfolio'\n",
    "lakehouse_function = 'get_portfolio_data'"
   ]
  },
  {
   "cell_type": "code",
   "execution_count": 0,
   "metadata": {
    "application/vnd.databricks.v1+cell": {
     "cellMetadata": {
      "byteLimit": 2048000,
      "rowLimit": 10000
     },
     "inputWidgets": {},
     "nuid": "881ecdeb-6dae-47a1-8c5b-a0138567a9d4",
     "showTitle": false,
     "tableResultSettingsMap": {},
     "title": ""
    }
   },
   "outputs": [],
   "source": [
    "import pandas as pd\n",
    "portfolio = pd.read_json('portfolio.json')\n",
    "portfolio = spark.createDataFrame(pd.read_json('portfolio.json'))"
   ]
  },
  {
   "cell_type": "code",
   "execution_count": 0,
   "metadata": {
    "application/vnd.databricks.v1+cell": {
     "cellMetadata": {
      "byteLimit": 2048000,
      "rowLimit": 10000
     },
     "inputWidgets": {},
     "nuid": "ab8c0d50-fd1d-49f3-9b59-8e95643bf17a",
     "showTitle": false,
     "tableResultSettingsMap": {
      "0": {
       "dataGridStateBlob": "{\"version\":1,\"tableState\":{\"columnPinning\":{\"left\":[\"#row_number#\"],\"right\":[]},\"columnSizing\":{},\"columnVisibility\":{}},\"settings\":{\"columns\":{}},\"syncTimestamp\":1752688627458}",
       "filterBlob": null,
       "queryPlanFiltersBlob": null,
       "tableResultIndex": 0
      }
     },
     "title": ""
    }
   },
   "outputs": [],
   "source": [
    "# Let's join our portfolio with bloomberg data for sector / industry and company description\n",
    "bloomberg_entity = spark.table(f'{lakehouse_catalog}.{lakehouse_database}.{bloomberg_entity_table}')\n",
    "display(bloomberg_entity)"
   ]
  },
  {
   "cell_type": "code",
   "execution_count": 0,
   "metadata": {
    "application/vnd.databricks.v1+cell": {
     "cellMetadata": {
      "byteLimit": 2048000,
      "rowLimit": 10000
     },
     "inputWidgets": {},
     "nuid": "d3b449af-ebf7-4397-86f2-50b90d2a8e84",
     "showTitle": false,
     "tableResultSettingsMap": {},
     "title": ""
    }
   },
   "outputs": [],
   "source": [
    "from pyspark.sql import functions as F\n",
    "\n",
    "@F.udf('string')\n",
    "def get_ticker(identifier):\n",
    "  # US equity only in that example portfolio\n",
    "  return '{}-US'.format(identifier.split(' ')[0])\n",
    "\n",
    "portfolio_df = (\n",
    "  portfolio\n",
    "    .withColumn('TICKER', get_ticker('ticker'))\n",
    "    .join(bloomberg_entity, on='TICKER', how='inner')\n",
    "    .distinct()\n",
    "    .select(\n",
    "      F.col('TICKER').alias('ticker'),\n",
    "      F.col('LONG_COMP_NAME').alias('company_name'),\n",
    "      F.col('INDUSTRY_GROUP').alias('industry'),\n",
    "      F.col('INDUSTRY_SUBGROUP').alias('sector'),\n",
    "      F.col('CNTRY_OF_DOMICILE').alias('country_of_domicile'),\n",
    "      F.col('CIE_DES').alias('company_description'),\n",
    "      F.col('number_of_shares').alias('number_of_shares')\n",
    "    )\n",
    ")"
   ]
  },
  {
   "cell_type": "code",
   "execution_count": 0,
   "metadata": {
    "application/vnd.databricks.v1+cell": {
     "cellMetadata": {
      "byteLimit": 2048000,
      "rowLimit": 10000
     },
     "inputWidgets": {},
     "nuid": "977beaa6-715e-46da-aa4e-72ebd842db60",
     "showTitle": false,
     "tableResultSettingsMap": {
      "0": {
       "dataGridStateBlob": "{\"version\":1,\"tableState\":{\"columnPinning\":{\"left\":[\"#row_number#\"],\"right\":[]},\"columnSizing\":{},\"columnVisibility\":{}},\"settings\":{\"columns\":{}},\"syncTimestamp\":1752684039972}",
       "filterBlob": null,
       "queryPlanFiltersBlob": null,
       "tableResultIndex": 0
      }
     },
     "title": ""
    }
   },
   "outputs": [],
   "source": [
    "display(portfolio_df)"
   ]
  },
  {
   "cell_type": "code",
   "execution_count": 0,
   "metadata": {
    "application/vnd.databricks.v1+cell": {
     "cellMetadata": {
      "byteLimit": 2048000,
      "rowLimit": 10000
     },
     "inputWidgets": {},
     "nuid": "8efb77a4-69bd-4fa2-a396-7c48e3cf2cb5",
     "showTitle": false,
     "tableResultSettingsMap": {},
     "title": ""
    }
   },
   "outputs": [],
   "source": [
    "portfolio_df.write.mode('overwrite').saveAsTable(f'{lakehouse_catalog}.{lakehouse_database}.{lakehouse_table}')"
   ]
  },
  {
   "cell_type": "code",
   "execution_count": 0,
   "metadata": {
    "application/vnd.databricks.v1+cell": {
     "cellMetadata": {
      "byteLimit": 2048000,
      "rowLimit": 10000
     },
     "inputWidgets": {},
     "nuid": "a524a9b5-8036-4389-8b29-74bde5092b4a",
     "showTitle": false,
     "tableResultSettingsMap": {},
     "title": ""
    }
   },
   "outputs": [],
   "source": [
    "_ = sql(f'''CREATE OR REPLACE FUNCTION {lakehouse_catalog}.{lakehouse_database}.{lakehouse_function}()\n",
    "RETURNS STRING\n",
    "LANGUAGE SQL\n",
    "COMMENT 'Return US equity portfolio with ticker information, company name, sectors and active positions'\n",
    "RETURN SELECT \n",
    "COLLECT_LIST(TO_JSON(STRUCT(identifier, ticker, company_name, industry, sector, number_of_shares)))\n",
    "FROM {lakehouse_catalog}.{lakehouse_database}.{lakehouse_table}\n",
    "GROUP BY ALL''')"
   ]
  },
  {
   "cell_type": "code",
   "execution_count": 0,
   "metadata": {
    "application/vnd.databricks.v1+cell": {
     "cellMetadata": {},
     "inputWidgets": {},
     "nuid": "525fef1c-7553-4cd1-b738-8f8aaee82b43",
     "showTitle": false,
     "tableResultSettingsMap": {},
     "title": ""
    }
   },
   "outputs": [],
   "source": []
  }
 ],
 "metadata": {
  "application/vnd.databricks.v1+notebook": {
   "computePreferences": null,
   "dashboards": [],
   "environmentMetadata": {
    "base_environment": "",
    "environment_version": "2"
   },
   "inputWidgetPreferences": null,
   "language": "python",
   "notebookMetadata": {
    "pythonIndentUnit": 2
   },
   "notebookName": "portfolio_data",
   "widgets": {}
  },
  "language_info": {
   "name": "python"
  }
 },
 "nbformat": 4,
 "nbformat_minor": 0
}
